{
 "cells": [
  {
   "cell_type": "code",
   "execution_count": 1,
   "metadata": {},
   "outputs": [
    {
     "name": "stdout",
     "output_type": "stream",
     "text": [
      "Collecting dash\n",
      "  Downloading dash-1.13.4.tar.gz (67 kB)\n",
      "Requirement already satisfied: Flask>=1.0.2 in c:\\users\\vedita kamat\\anaconda3\\lib\\site-packages (from dash) (1.1.1)\n",
      "Collecting flask-compress\n",
      "  Downloading Flask-Compress-1.5.0.tar.gz (6.5 kB)\n",
      "Requirement already satisfied: plotly in c:\\users\\vedita kamat\\anaconda3\\lib\\site-packages (from dash) (4.8.1)\n",
      "Collecting dash_renderer==1.5.1\n",
      "  Downloading dash_renderer-1.5.1.tar.gz (1.2 MB)\n",
      "Collecting dash-core-components==1.10.1\n",
      "  Downloading dash_core_components-1.10.1.tar.gz (3.4 MB)\n",
      "Collecting dash-html-components==1.0.3\n",
      "  Downloading dash_html_components-1.0.3.tar.gz (187 kB)\n",
      "Collecting dash-table==4.8.1\n",
      "  Downloading dash_table-4.8.1.tar.gz (1.8 MB)\n",
      "Requirement already satisfied: future in c:\\users\\vedita kamat\\anaconda3\\lib\\site-packages (from dash) (0.18.2)\n",
      "Requirement already satisfied: itsdangerous>=0.24 in c:\\users\\vedita kamat\\anaconda3\\lib\\site-packages (from Flask>=1.0.2->dash) (1.1.0)\n",
      "Requirement already satisfied: Werkzeug>=0.15 in c:\\users\\vedita kamat\\anaconda3\\lib\\site-packages (from Flask>=1.0.2->dash) (1.0.0)\n",
      "Requirement already satisfied: Jinja2>=2.10.1 in c:\\users\\vedita kamat\\anaconda3\\lib\\site-packages (from Flask>=1.0.2->dash) (2.11.1)\n",
      "Requirement already satisfied: click>=5.1 in c:\\users\\vedita kamat\\anaconda3\\lib\\site-packages (from Flask>=1.0.2->dash) (7.0)\n",
      "Collecting brotli\n",
      "  Downloading Brotli-1.0.7-cp37-cp37m-win_amd64.whl (358 kB)\n",
      "Requirement already satisfied: six in c:\\users\\vedita kamat\\anaconda3\\lib\\site-packages (from plotly->dash) (1.14.0)\n",
      "Requirement already satisfied: retrying>=1.3.3 in c:\\users\\vedita kamat\\anaconda3\\lib\\site-packages (from plotly->dash) (1.3.3)\n",
      "Requirement already satisfied: MarkupSafe>=0.23 in c:\\users\\vedita kamat\\anaconda3\\lib\\site-packages (from Jinja2>=2.10.1->Flask>=1.0.2->dash) (1.1.1)\n",
      "Building wheels for collected packages: dash, flask-compress, dash-renderer, dash-core-components, dash-html-components, dash-table\n",
      "  Building wheel for dash (setup.py): started\n",
      "  Building wheel for dash (setup.py): finished with status 'done'\n",
      "  Created wheel for dash: filename=dash-1.13.4-py3-none-any.whl size=74955 sha256=33e21ca24ee8aafc688e2f44588aa0b4f35999c54aa052e3bcfcfb4d328ea620\n",
      "  Stored in directory: c:\\users\\vedita kamat\\appdata\\local\\pip\\cache\\wheels\\06\\28\\f7\\a5ce9b564da2bb24f6c8fbe190c0458c6ff4a497a937815103\n",
      "  Building wheel for flask-compress (setup.py): started\n",
      "  Building wheel for flask-compress (setup.py): finished with status 'done'\n",
      "  Created wheel for flask-compress: filename=Flask_Compress-1.5.0-py3-none-any.whl size=5277 sha256=190cc436b0d8b6f1b762d00187a185974286df5c983c311ff5dc8b5fc8f30f47\n",
      "  Stored in directory: c:\\users\\vedita kamat\\appdata\\local\\pip\\cache\\wheels\\d6\\9f\\c9\\4bf2abf65cceaa8d19423bc34b88443b3b063f167d2082c212\n",
      "  Building wheel for dash-renderer (setup.py): started\n",
      "  Building wheel for dash-renderer (setup.py): finished with status 'done'\n",
      "  Created wheel for dash-renderer: filename=dash_renderer-1.5.1-py3-none-any.whl size=1182064 sha256=1bca0c3ab0840f311e57f9b57120ab84a170b6bba91cfae7c1768a36227be9e5\n",
      "  Stored in directory: c:\\users\\vedita kamat\\appdata\\local\\pip\\cache\\wheels\\bd\\ab\\c9\\0f49b8aeec6b07e30f7dacd9128a1571bd583f39d316affb7f\n",
      "  Building wheel for dash-core-components (setup.py): started\n",
      "  Building wheel for dash-core-components (setup.py): finished with status 'done'\n",
      "  Created wheel for dash-core-components: filename=dash_core_components-1.10.1-py3-none-any.whl size=3458667 sha256=8d197a8c435f33166871cffbecb2f5f86eeac4eb824612107ff47c1c4738e1d9\n",
      "  Stored in directory: c:\\users\\vedita kamat\\appdata\\local\\pip\\cache\\wheels\\10\\6c\\7a\\8849a35d2f66126db2773d0575c2b1e07897701ae2d23c7f2e\n",
      "  Building wheel for dash-html-components (setup.py): started\n",
      "  Building wheel for dash-html-components (setup.py): finished with status 'done'\n",
      "  Created wheel for dash-html-components: filename=dash_html_components-1.0.3-py3-none-any.whl size=427310 sha256=8fe6d45127728e194258c36b822a1c8dcd5ab427eb15c0cb264297bb39f7a8f8\n",
      "  Stored in directory: c:\\users\\vedita kamat\\appdata\\local\\pip\\cache\\wheels\\36\\34\\f9\\c3d147461b28467d5bbd14d255be66f6728a1580ff9fbebece\n",
      "  Building wheel for dash-table (setup.py): started\n",
      "  Building wheel for dash-table (setup.py): finished with status 'done'\n",
      "  Created wheel for dash-table: filename=dash_table-4.8.1-py3-none-any.whl size=1779393 sha256=cb771ef5da9f9a29a66f9b25dcfe520cadee369fc1097e61fb4b247050e3c9b9\n",
      "  Stored in directory: c:\\users\\vedita kamat\\appdata\\local\\pip\\cache\\wheels\\66\\81\\95\\b2774b227694b28cf1a6a7dcb92af258cebac354dfa67af6bb\n",
      "Successfully built dash flask-compress dash-renderer dash-core-components dash-html-components dash-table\n",
      "Installing collected packages: brotli, flask-compress, dash-renderer, dash-core-components, dash-html-components, dash-table, dash\n",
      "Successfully installed brotli-1.0.7 dash-1.13.4 dash-core-components-1.10.1 dash-html-components-1.0.3 dash-renderer-1.5.1 dash-table-4.8.1 flask-compress-1.5.0\n"
     ]
    }
   ],
   "source": [
    "!pip install dash"
   ]
  },
  {
   "cell_type": "code",
   "execution_count": 2,
   "metadata": {},
   "outputs": [
    {
     "name": "stdout",
     "output_type": "stream",
     "text": [
      "Collecting dash-bootstrap-components\n",
      "  Downloading dash-bootstrap-components-0.10.3.tar.gz (107 kB)\n",
      "  Installing build dependencies: started\n",
      "  Installing build dependencies: finished with status 'done'\n",
      "  Getting requirements to build wheel: started\n",
      "  Getting requirements to build wheel: finished with status 'done'\n",
      "    Preparing wheel metadata: started\n",
      "    Preparing wheel metadata: finished with status 'done'\n",
      "Requirement already satisfied: dash>=1.9.0 in c:\\users\\vedita kamat\\anaconda3\\lib\\site-packages (from dash-bootstrap-components) (1.13.4)\n",
      "Requirement already satisfied: plotly in c:\\users\\vedita kamat\\anaconda3\\lib\\site-packages (from dash>=1.9.0->dash-bootstrap-components) (4.8.1)\n",
      "Requirement already satisfied: dash-table==4.8.1 in c:\\users\\vedita kamat\\anaconda3\\lib\\site-packages (from dash>=1.9.0->dash-bootstrap-components) (4.8.1)\n",
      "Requirement already satisfied: dash-renderer==1.5.1 in c:\\users\\vedita kamat\\anaconda3\\lib\\site-packages (from dash>=1.9.0->dash-bootstrap-components) (1.5.1)\n",
      "Requirement already satisfied: future in c:\\users\\vedita kamat\\anaconda3\\lib\\site-packages (from dash>=1.9.0->dash-bootstrap-components) (0.18.2)\n",
      "Requirement already satisfied: Flask>=1.0.2 in c:\\users\\vedita kamat\\anaconda3\\lib\\site-packages (from dash>=1.9.0->dash-bootstrap-components) (1.1.1)\n",
      "Requirement already satisfied: dash-core-components==1.10.1 in c:\\users\\vedita kamat\\anaconda3\\lib\\site-packages (from dash>=1.9.0->dash-bootstrap-components) (1.10.1)\n",
      "Requirement already satisfied: dash-html-components==1.0.3 in c:\\users\\vedita kamat\\anaconda3\\lib\\site-packages (from dash>=1.9.0->dash-bootstrap-components) (1.0.3)\n",
      "Requirement already satisfied: flask-compress in c:\\users\\vedita kamat\\anaconda3\\lib\\site-packages (from dash>=1.9.0->dash-bootstrap-components) (1.5.0)\n",
      "Requirement already satisfied: six in c:\\users\\vedita kamat\\anaconda3\\lib\\site-packages (from plotly->dash>=1.9.0->dash-bootstrap-components) (1.14.0)\n",
      "Requirement already satisfied: retrying>=1.3.3 in c:\\users\\vedita kamat\\anaconda3\\lib\\site-packages (from plotly->dash>=1.9.0->dash-bootstrap-components) (1.3.3)\n",
      "Requirement already satisfied: itsdangerous>=0.24 in c:\\users\\vedita kamat\\anaconda3\\lib\\site-packages (from Flask>=1.0.2->dash>=1.9.0->dash-bootstrap-components) (1.1.0)\n",
      "Requirement already satisfied: click>=5.1 in c:\\users\\vedita kamat\\anaconda3\\lib\\site-packages (from Flask>=1.0.2->dash>=1.9.0->dash-bootstrap-components) (7.0)\n",
      "Requirement already satisfied: Jinja2>=2.10.1 in c:\\users\\vedita kamat\\anaconda3\\lib\\site-packages (from Flask>=1.0.2->dash>=1.9.0->dash-bootstrap-components) (2.11.1)\n",
      "Requirement already satisfied: Werkzeug>=0.15 in c:\\users\\vedita kamat\\anaconda3\\lib\\site-packages (from Flask>=1.0.2->dash>=1.9.0->dash-bootstrap-components) (1.0.0)\n",
      "Requirement already satisfied: brotli in c:\\users\\vedita kamat\\anaconda3\\lib\\site-packages (from flask-compress->dash>=1.9.0->dash-bootstrap-components) (1.0.7)\n",
      "Requirement already satisfied: MarkupSafe>=0.23 in c:\\users\\vedita kamat\\anaconda3\\lib\\site-packages (from Jinja2>=2.10.1->Flask>=1.0.2->dash>=1.9.0->dash-bootstrap-components) (1.1.1)\n",
      "Building wheels for collected packages: dash-bootstrap-components\n",
      "  Building wheel for dash-bootstrap-components (PEP 517): started\n",
      "  Building wheel for dash-bootstrap-components (PEP 517): finished with status 'done'\n",
      "  Created wheel for dash-bootstrap-components: filename=dash_bootstrap_components-0.10.3-py3-none-any.whl size=179491 sha256=f27a9e2d5e0f252d774559d1dc3efa2408ba2ea98feccc16b2943187292724b8\n",
      "  Stored in directory: c:\\users\\vedita kamat\\appdata\\local\\pip\\cache\\wheels\\7d\\e7\\e6\\225ffdad437ee57f52b2d437c716f27edfe277236c7b860b7e\n",
      "Successfully built dash-bootstrap-components\n",
      "Installing collected packages: dash-bootstrap-components\n",
      "Successfully installed dash-bootstrap-components-0.10.3\n"
     ]
    }
   ],
   "source": [
    "!pip install dash-bootstrap-components"
   ]
  },
  {
   "cell_type": "code",
   "execution_count": 3,
   "metadata": {},
   "outputs": [
    {
     "name": "stdout",
     "output_type": "stream",
     "text": [
      "Requirement already satisfied: plotly in c:\\users\\vedita kamat\\anaconda3\\lib\\site-packages (4.8.1)\n",
      "Requirement already satisfied: retrying>=1.3.3 in c:\\users\\vedita kamat\\anaconda3\\lib\\site-packages (from plotly) (1.3.3)\n",
      "Requirement already satisfied: six in c:\\users\\vedita kamat\\anaconda3\\lib\\site-packages (from plotly) (1.14.0)\n"
     ]
    }
   ],
   "source": [
    "!pip install plotly"
   ]
  },
  {
   "cell_type": "code",
   "execution_count": 6,
   "metadata": {},
   "outputs": [],
   "source": [
    "import pandas as pd\n",
    "import dash\n",
    "import dash_bootstrap_components as dbc\n"
   ]
  },
  {
   "cell_type": "code",
   "execution_count": 8,
   "metadata": {},
   "outputs": [],
   "source": [
    "import dash_core_components as dcc\n",
    "import dash_html_components as html\n",
    "from dash.dependencies import Input, Output\n",
    "import dash_table\n",
    "import plotly.graph_objs as go\n",
    "    \n"
   ]
  },
  {
   "cell_type": "code",
   "execution_count": 9,
   "metadata": {},
   "outputs": [],
   "source": [
    "app = dash.Dash(__name__, external_stylesheets = [dbc.themes.BOOTSTRAP])\n",
    "server = app.server\n",
    "app.config.suppress_callback_exceptions = True"
   ]
  },
  {
   "cell_type": "code",
   "execution_count": 10,
   "metadata": {},
   "outputs": [],
   "source": [
    "#set the app.layout\n",
    "app.layout = html.Div([\n",
    "    dcc.Tabs(id=\"tabs\", value='tab-1', children=[\n",
    "        dcc.Tab(label='Tab one', value='tab-1'),\n",
    "        dcc.Tab(label='Tab two', value='tab-2'),\n",
    "    ]),\n",
    "    html.Div(id='tabs-content')\n",
    "])"
   ]
  },
  {
   "cell_type": "code",
   "execution_count": 11,
   "metadata": {},
   "outputs": [],
   "source": [
    "#callback to control the tab content\n",
    "@app.callback(Output('tabs-content', 'children'),\n",
    "              [Input('tabs', 'value')])\n",
    "def render_content(tab):\n",
    "    if tab == 'tab-1':\n",
    "        return html.H1('Tab 1')\n",
    "    elif tab == 'tab-2':\n",
    "        return html.H1('Tab 2')"
   ]
  },
  {
   "cell_type": "code",
   "execution_count": null,
   "metadata": {},
   "outputs": [
    {
     "name": "stdout",
     "output_type": "stream",
     "text": [
      "Dash is running on http://127.0.0.1:8050/\n",
      "\n",
      " Warning: This is a development server. Do not use app.run_server\n",
      " in production, use a production WSGI server like gunicorn instead.\n",
      "\n",
      " * Serving Flask app \"__main__\" (lazy loading)\n",
      " * Environment: production\n",
      "   WARNING: This is a development server. Do not use it in a production deployment.\n",
      "   Use a production WSGI server instead.\n",
      " * Debug mode: off\n"
     ]
    },
    {
     "name": "stderr",
     "output_type": "stream",
     "text": [
      " * Running on http://127.0.0.1:8050/ (Press CTRL+C to quit)\n",
      "127.0.0.1 - - [05/Jul/2020 18:58:24] \"\u001b[37mGET / HTTP/1.1\u001b[0m\" 200 -\n",
      "127.0.0.1 - - [05/Jul/2020 18:58:24] \"\u001b[37mGET /_dash-component-suites/dash_renderer/react@16.v1_5_1m1593950810.13.0.min.js HTTP/1.1\u001b[0m\" 200 -\n",
      "127.0.0.1 - - [05/Jul/2020 18:58:24] \"\u001b[37mGET /_dash-component-suites/dash_core_components/dash_core_components-shared.v1_10_1m1593950815.js HTTP/1.1\u001b[0m\" 200 -\n",
      "127.0.0.1 - - [05/Jul/2020 18:58:24] \"\u001b[37mGET /_dash-component-suites/dash_renderer/prop-types@15.v1_5_1m1593950810.7.2.min.js HTTP/1.1\u001b[0m\" 200 -\n",
      "127.0.0.1 - - [05/Jul/2020 18:58:24] \"\u001b[37mGET /_dash-component-suites/dash_renderer/react-dom@16.v1_5_1m1593950810.13.0.min.js HTTP/1.1\u001b[0m\" 200 -\n",
      "127.0.0.1 - - [05/Jul/2020 18:58:24] \"\u001b[37mGET /_dash-component-suites/dash_renderer/polyfill@7.v1_5_1m1593950810.8.7.min.js HTTP/1.1\u001b[0m\" 200 -\n",
      "127.0.0.1 - - [05/Jul/2020 18:58:24] \"\u001b[37mGET /_dash-component-suites/dash_core_components/dash_core_components.v1_10_1m1593950815.min.js HTTP/1.1\u001b[0m\" 200 -\n",
      "127.0.0.1 - - [05/Jul/2020 18:58:24] \"\u001b[37mGET /_dash-component-suites/dash_table/bundle.v4_8_1m1593950825.js HTTP/1.1\u001b[0m\" 200 -\n",
      "127.0.0.1 - - [05/Jul/2020 18:58:24] \"\u001b[37mGET /_dash-component-suites/dash_bootstrap_components/_components/dash_bootstrap_components.v0_10_3m1593950914.min.js HTTP/1.1\u001b[0m\" 200 -\n",
      "127.0.0.1 - - [05/Jul/2020 18:58:24] \"\u001b[37mGET /_dash-component-suites/dash_html_components/dash_html_components.v1_0_3m1593950819.min.js HTTP/1.1\u001b[0m\" 200 -\n",
      "127.0.0.1 - - [05/Jul/2020 18:58:24] \"\u001b[37mGET /_dash-component-suites/dash_renderer/dash_renderer.v1_5_1m1593950810.min.js HTTP/1.1\u001b[0m\" 200 -\n",
      "127.0.0.1 - - [05/Jul/2020 18:58:26] \"\u001b[37mGET /_dash-layout HTTP/1.1\u001b[0m\" 200 -\n",
      "127.0.0.1 - - [05/Jul/2020 18:58:26] \"\u001b[37mGET /_dash-dependencies HTTP/1.1\u001b[0m\" 200 -\n",
      "127.0.0.1 - - [05/Jul/2020 18:58:26] \"\u001b[37mPOST /_dash-update-component HTTP/1.1\u001b[0m\" 200 -\n",
      "127.0.0.1 - - [05/Jul/2020 18:58:28] \"\u001b[37mPOST /_dash-update-component HTTP/1.1\u001b[0m\" 200 -\n",
      "127.0.0.1 - - [05/Jul/2020 18:58:30] \"\u001b[37mGET /_favicon.ico?v=1.13.4 HTTP/1.1\u001b[0m\" 200 -\n",
      "127.0.0.1 - - [05/Jul/2020 18:58:35] \"\u001b[37mPOST /_dash-update-component HTTP/1.1\u001b[0m\" 200 -\n",
      "127.0.0.1 - - [05/Jul/2020 18:59:02] \"\u001b[37mPOST /_dash-update-component HTTP/1.1\u001b[0m\" 200 -\n",
      "127.0.0.1 - - [05/Jul/2020 18:59:04] \"\u001b[37mPOST /_dash-update-component HTTP/1.1\u001b[0m\" 200 -\n",
      "127.0.0.1 - - [05/Jul/2020 22:00:17] \"\u001b[37mGET / HTTP/1.1\u001b[0m\" 200 -\n",
      "127.0.0.1 - - [05/Jul/2020 22:00:26] \"\u001b[37mGET /_dash-dependencies HTTP/1.1\u001b[0m\" 200 -\n",
      "127.0.0.1 - - [05/Jul/2020 22:00:27] \"\u001b[37mGET /_dash-layout HTTP/1.1\u001b[0m\" 200 -\n",
      "127.0.0.1 - - [05/Jul/2020 22:00:27] \"\u001b[37mPOST /_dash-update-component HTTP/1.1\u001b[0m\" 200 -\n",
      "127.0.0.1 - - [05/Jul/2020 22:00:30] \"\u001b[37mPOST /_dash-update-component HTTP/1.1\u001b[0m\" 200 -\n",
      "127.0.0.1 - - [05/Jul/2020 22:00:32] \"\u001b[37mPOST /_dash-update-component HTTP/1.1\u001b[0m\" 200 -\n",
      "127.0.0.1 - - [05/Jul/2020 22:00:33] \"\u001b[37mPOST /_dash-update-component HTTP/1.1\u001b[0m\" 200 -\n",
      "127.0.0.1 - - [05/Jul/2020 22:03:17] \"\u001b[37mGET /_dash-dependencies HTTP/1.1\u001b[0m\" 200 -\n",
      "127.0.0.1 - - [05/Jul/2020 22:03:21] \"\u001b[37mGET /_dash-layout HTTP/1.1\u001b[0m\" 200 -\n",
      "127.0.0.1 - - [05/Jul/2020 22:10:23] \"\u001b[37mGET / HTTP/1.1\u001b[0m\" 200 -\n",
      "127.0.0.1 - - [05/Jul/2020 22:10:24] \"\u001b[37mGET /_dash-dependencies HTTP/1.1\u001b[0m\" 200 -\n",
      "127.0.0.1 - - [05/Jul/2020 22:10:24] \"\u001b[37mGET /_dash-layout HTTP/1.1\u001b[0m\" 200 -\n",
      "127.0.0.1 - - [05/Jul/2020 22:10:24] \"\u001b[37mPOST /_dash-update-component HTTP/1.1\u001b[0m\" 200 -\n",
      "127.0.0.1 - - [05/Jul/2020 22:10:24] \"\u001b[37mGET /_favicon.ico?v=1.13.4 HTTP/1.1\u001b[0m\" 200 -\n",
      "127.0.0.1 - - [05/Jul/2020 22:10:26] \"\u001b[37mPOST /_dash-update-component HTTP/1.1\u001b[0m\" 200 -\n",
      "127.0.0.1 - - [05/Jul/2020 22:10:28] \"\u001b[37mPOST /_dash-update-component HTTP/1.1\u001b[0m\" 200 -\n",
      "127.0.0.1 - - [05/Jul/2020 22:10:30] \"\u001b[37mPOST /_dash-update-component HTTP/1.1\u001b[0m\" 200 -\n",
      "127.0.0.1 - - [05/Jul/2020 22:10:32] \"\u001b[37mPOST /_dash-update-component HTTP/1.1\u001b[0m\" 200 -\n",
      "127.0.0.1 - - [05/Jul/2020 22:10:33] \"\u001b[37mPOST /_dash-update-component HTTP/1.1\u001b[0m\" 200 -\n",
      "127.0.0.1 - - [05/Jul/2020 22:10:36] \"\u001b[37mPOST /_dash-update-component HTTP/1.1\u001b[0m\" 200 -\n",
      "127.0.0.1 - - [06/Jul/2020 15:32:46] \"\u001b[37mGET / HTTP/1.1\u001b[0m\" 200 -\n",
      "127.0.0.1 - - [06/Jul/2020 15:32:50] \"\u001b[37mGET /_dash-dependencies HTTP/1.1\u001b[0m\" 200 -\n",
      "127.0.0.1 - - [06/Jul/2020 15:32:50] \"\u001b[37mGET /_dash-layout HTTP/1.1\u001b[0m\" 200 -\n",
      "127.0.0.1 - - [06/Jul/2020 15:32:50] \"\u001b[37mPOST /_dash-update-component HTTP/1.1\u001b[0m\" 200 -\n",
      "127.0.0.1 - - [06/Jul/2020 15:32:52] \"\u001b[37mPOST /_dash-update-component HTTP/1.1\u001b[0m\" 200 -\n",
      "127.0.0.1 - - [06/Jul/2020 15:32:54] \"\u001b[37mPOST /_dash-update-component HTTP/1.1\u001b[0m\" 200 -\n",
      "127.0.0.1 - - [06/Jul/2020 15:32:55] \"\u001b[37mPOST /_dash-update-component HTTP/1.1\u001b[0m\" 200 -\n",
      "127.0.0.1 - - [06/Jul/2020 15:32:56] \"\u001b[37mPOST /_dash-update-component HTTP/1.1\u001b[0m\" 200 -\n",
      "127.0.0.1 - - [06/Jul/2020 15:32:58] \"\u001b[37mPOST /_dash-update-component HTTP/1.1\u001b[0m\" 200 -\n",
      "127.0.0.1 - - [06/Jul/2020 15:45:36] \"\u001b[37mPOST /_dash-update-component HTTP/1.1\u001b[0m\" 200 -\n",
      "127.0.0.1 - - [06/Jul/2020 15:45:39] \"\u001b[37mGET / HTTP/1.1\u001b[0m\" 200 -\n",
      "127.0.0.1 - - [06/Jul/2020 15:45:41] \"\u001b[37mGET /_dash-layout HTTP/1.1\u001b[0m\" 200 -\n",
      "127.0.0.1 - - [06/Jul/2020 15:45:41] \"\u001b[37mGET /_dash-dependencies HTTP/1.1\u001b[0m\" 200 -\n",
      "127.0.0.1 - - [06/Jul/2020 15:45:41] \"\u001b[37mPOST /_dash-update-component HTTP/1.1\u001b[0m\" 200 -\n",
      "127.0.0.1 - - [06/Jul/2020 15:45:41] \"\u001b[37mGET /_favicon.ico?v=1.13.4 HTTP/1.1\u001b[0m\" 200 -\n",
      "127.0.0.1 - - [06/Jul/2020 15:45:46] \"\u001b[37mPOST /_dash-update-component HTTP/1.1\u001b[0m\" 200 -\n",
      "127.0.0.1 - - [06/Jul/2020 15:45:49] \"\u001b[37mPOST /_dash-update-component HTTP/1.1\u001b[0m\" 200 -\n",
      "127.0.0.1 - - [06/Jul/2020 15:45:51] \"\u001b[37mPOST /_dash-update-component HTTP/1.1\u001b[0m\" 200 -\n",
      "127.0.0.1 - - [06/Jul/2020 15:45:54] \"\u001b[37mGET / HTTP/1.1\u001b[0m\" 200 -\n",
      "127.0.0.1 - - [06/Jul/2020 15:45:59] \"\u001b[37mGET /_dash-layout HTTP/1.1\u001b[0m\" 200 -\n",
      "127.0.0.1 - - [06/Jul/2020 15:45:59] \"\u001b[37mGET /_dash-dependencies HTTP/1.1\u001b[0m\" 200 -\n",
      "127.0.0.1 - - [06/Jul/2020 15:45:59] \"\u001b[37mGET /_favicon.ico?v=1.13.4 HTTP/1.1\u001b[0m\" 200 -\n",
      "127.0.0.1 - - [06/Jul/2020 15:45:59] \"\u001b[37mPOST /_dash-update-component HTTP/1.1\u001b[0m\" 200 -\n",
      "127.0.0.1 - - [06/Jul/2020 15:46:05] \"\u001b[37mPOST /_dash-update-component HTTP/1.1\u001b[0m\" 200 -\n",
      "127.0.0.1 - - [06/Jul/2020 15:46:07] \"\u001b[37mPOST /_dash-update-component HTTP/1.1\u001b[0m\" 200 -\n",
      "127.0.0.1 - - [06/Jul/2020 15:49:09] \"\u001b[37mGET / HTTP/1.1\u001b[0m\" 200 -\n",
      "127.0.0.1 - - [06/Jul/2020 15:49:11] \"\u001b[37mGET /_dash-dependencies HTTP/1.1\u001b[0m\" 200 -\n",
      "127.0.0.1 - - [06/Jul/2020 15:49:11] \"\u001b[37mGET /_dash-layout HTTP/1.1\u001b[0m\" 200 -\n",
      "127.0.0.1 - - [06/Jul/2020 15:49:11] \"\u001b[37mPOST /_dash-update-component HTTP/1.1\u001b[0m\" 200 -\n",
      "127.0.0.1 - - [06/Jul/2020 15:49:13] \"\u001b[37mPOST /_dash-update-component HTTP/1.1\u001b[0m\" 200 -\n",
      "127.0.0.1 - - [06/Jul/2020 15:49:15] \"\u001b[37mPOST /_dash-update-component HTTP/1.1\u001b[0m\" 200 -\n"
     ]
    }
   ],
   "source": [
    "if __name__ == \"__main__\":\n",
    "    app.run_server()"
   ]
  }
 ],
 "metadata": {
  "kernelspec": {
   "display_name": "Python 3",
   "language": "python",
   "name": "python3"
  },
  "language_info": {
   "codemirror_mode": {
    "name": "ipython",
    "version": 3
   },
   "file_extension": ".py",
   "mimetype": "text/x-python",
   "name": "python",
   "nbconvert_exporter": "python",
   "pygments_lexer": "ipython3",
   "version": "3.7.6"
  }
 },
 "nbformat": 4,
 "nbformat_minor": 4
}
